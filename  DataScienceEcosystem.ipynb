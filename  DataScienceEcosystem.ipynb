{
 "cells": [
  {
   "cell_type": "markdown",
   "id": "2664b543-ab39-4360-944b-c06524eb3a61",
   "metadata": {},
   "source": [
    "# Data Science Tools and Ecosystem"
   ]
  },
  {
   "cell_type": "markdown",
   "id": "81e2ceed-7f32-48e6-92ba-839f5e8efc37",
   "metadata": {},
   "source": [
    "Este es un Notebook,  Es un resumen de Data Science Tools and Ecosystem "
   ]
  },
  {
   "cell_type": "markdown",
   "id": "98ac0c58-7420-4b75-93dd-ae9be5e28891",
   "metadata": {},
   "source": [
    "__Los objetivos cubiertos en este notebook__\n",
    "- Ordenar listas de lenguajes para data Science\n",
    "- Ordenar listas de biblietas mas populares para data Science\n",
    "- Herramientas de codigo Abierto para data Science\n",
    "- Expresiones arimeticas en Notebook Jupyter"
   ]
  },
  {
   "cell_type": "markdown",
   "id": "1c9ca0d4-b21a-424d-a98a-d237c9e4378f",
   "metadata": {},
   "source": [
    "Algunos de los lenguajes mas usadas para data Science son:\n",
    "1. PYTHON\n",
    "2. R\n",
    "3. SQL\n",
    "4. SCALA"
   ]
  },
  {
   "cell_type": "markdown",
   "id": "09104ee5-0457-4d8f-bcd8-c17cc9dc563f",
   "metadata": {},
   "source": [
    "Algunas de las bibliotecas más populares entre científicos de datos son:\n",
    "1. Numpy\n",
    "2. Pandas\n",
    "3. Seaborn\n",
    "4. Matplotlib\n",
    "5. Tensorflow\n",
    "6. Scikit-learn"
   ]
  },
  {
   "cell_type": "markdown",
   "id": "eae28d8d-5545-433b-bc7a-ad5de3efdd40",
   "metadata": {},
   "source": [
    "Herramientas para Data Science de codigo abierto\n",
    "\n",
    "|Herramientas|\n",
    "|------------|\n",
    "|Jupyter Notebook|\n",
    "|R Studio |\n",
    "|Zeppelin|\n"
   ]
  },
  {
   "cell_type": "markdown",
   "id": "aa392ad8-933a-473c-96f5-d10081a479e3",
   "metadata": {},
   "source": [
    "### A continuación se muestran algunos ejemplos de evaluación de expresiones aritméticas en Python\n",
    "\n",
    "| operaciones  | expresión|\n",
    "| -------------|--------- |\n",
    "|Suma          | 4+5      |\n",
    "|Resta         | 7-1      |\n",
    "|Multiplicación| 5*5      |\n",
    "|División      | 5/5      |\n",
    "\n"
   ]
  },
  {
   "cell_type": "code",
   "execution_count": 56,
   "id": "8da9669a-5a57-4013-b78a-479c60ee9170",
   "metadata": {},
   "outputs": [
    {
     "data": {
      "text/plain": [
       "17"
      ]
     },
     "execution_count": 56,
     "metadata": {},
     "output_type": "execute_result"
    }
   ],
   "source": [
    "## esta es una expresión aritmética simple para luego agregar números enteros.\n",
    "\n",
    "(3*4)+5"
   ]
  },
  {
   "cell_type": "code",
   "execution_count": 58,
   "id": "984b4e6f-e56c-4985-8cad-59073ef86080",
   "metadata": {},
   "outputs": [
    {
     "data": {
      "text/plain": [
       "3"
      ]
     },
     "execution_count": 58,
     "metadata": {},
     "output_type": "execute_result"
    }
   ],
   "source": [
    "## Esto convertirá 200 minutos en horas de 60 minutos\n",
    "\n",
    "200 // 60\n"
   ]
  },
  {
   "cell_type": "markdown",
   "id": "0974b339-5bf1-47fb-8200-2ce5e7bc915a",
   "metadata": {},
   "source": [
    "## Autor\n",
    "Yasira Gonzalez"
   ]
  }
 ],
 "metadata": {
  "kernelspec": {
   "display_name": "Python 3 (ipykernel)",
   "language": "python",
   "name": "python3"
  },
  "language_info": {
   "codemirror_mode": {
    "name": "ipython",
    "version": 3
   },
   "file_extension": ".py",
   "mimetype": "text/x-python",
   "name": "python",
   "nbconvert_exporter": "python",
   "pygments_lexer": "ipython3",
   "version": "3.12.3"
  }
 },
 "nbformat": 4,
 "nbformat_minor": 5
}
